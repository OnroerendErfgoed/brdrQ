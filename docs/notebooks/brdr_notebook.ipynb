{
 "cells": [
  {
   "cell_type": "code",
   "execution_count": 1,
   "id": "37d7f6d4-58d7-465c-8eff-f646f21775f0",
   "metadata": {},
   "outputs": [
    {
     "name": "stdout",
     "output_type": "stream",
     "text": [
      "hi\n"
     ]
    }
   ],
   "source": [
    "print (\"hi\")"
   ]
  },
  {
   "cell_type": "code",
   "execution_count": 3,
   "id": "a9b27559-1b1a-433d-bc73-5ad766992068",
   "metadata": {},
   "outputs": [
    {
     "name": "stdout",
     "output_type": "stream",
     "text": [
      "Requirement already satisfied: brdr==0.12.0 in c:\\users\\kareldieussaert\\onedrive - geo square\\documenten\\github\\brdr\\venv\\lib\\site-packages (0.12.0)\n",
      "Requirement already satisfied: geojson~=3.1 in c:\\users\\kareldieussaert\\onedrive - geo square\\documenten\\github\\brdr\\venv\\lib\\site-packages (from brdr==0.12.0) (3.1.0)\n",
      "Requirement already satisfied: networkx>=3.2 in c:\\users\\kareldieussaert\\onedrive - geo square\\documenten\\github\\brdr\\venv\\lib\\site-packages (from brdr==0.12.0) (3.3)\n",
      "Requirement already satisfied: requests~=2.32 in c:\\users\\kareldieussaert\\onedrive - geo square\\documenten\\github\\brdr\\venv\\lib\\site-packages (from brdr==0.12.0) (2.32.3)\n",
      "Requirement already satisfied: shapely~=2.0 in c:\\users\\kareldieussaert\\onedrive - geo square\\documenten\\github\\brdr\\venv\\lib\\site-packages (from brdr==0.12.0) (2.0.4)\n",
      "Requirement already satisfied: topojson~=1.9 in c:\\users\\kareldieussaert\\onedrive - geo square\\documenten\\github\\brdr\\venv\\lib\\site-packages (from brdr==0.12.0) (1.9)\n",
      "Requirement already satisfied: charset-normalizer<4,>=2 in c:\\users\\kareldieussaert\\onedrive - geo square\\documenten\\github\\brdr\\venv\\lib\\site-packages (from requests~=2.32->brdr==0.12.0) (3.3.2)\n",
      "Requirement already satisfied: idna<4,>=2.5 in c:\\users\\kareldieussaert\\onedrive - geo square\\documenten\\github\\brdr\\venv\\lib\\site-packages (from requests~=2.32->brdr==0.12.0) (3.7)\n",
      "Requirement already satisfied: urllib3<3,>=1.21.1 in c:\\users\\kareldieussaert\\onedrive - geo square\\documenten\\github\\brdr\\venv\\lib\\site-packages (from requests~=2.32->brdr==0.12.0) (2.2.1)\n",
      "Requirement already satisfied: certifi>=2017.4.17 in c:\\users\\kareldieussaert\\onedrive - geo square\\documenten\\github\\brdr\\venv\\lib\\site-packages (from requests~=2.32->brdr==0.12.0) (2024.2.2)\n",
      "Requirement already satisfied: numpy<3,>=1.14 in c:\\users\\kareldieussaert\\onedrive - geo square\\documenten\\github\\brdr\\venv\\lib\\site-packages (from shapely~=2.0->brdr==0.12.0) (1.26.4)\n",
      "Requirement already satisfied: packaging in c:\\users\\kareldieussaert\\onedrive - geo square\\documenten\\github\\brdr\\venv\\lib\\site-packages (from topojson~=1.9->brdr==0.12.0) (24.0)\n",
      "0.12.0\n"
     ]
    },
    {
     "name": "stderr",
     "output_type": "stream",
     "text": [
      "WARNING: There was an error checking the latest version of pip.\n"
     ]
    }
   ],
   "source": [
    "!pip install brdr==0.12.0\n",
    "import brdr\n",
    "print (str(brdr.__version__))"
   ]
  },
  {
   "cell_type": "code",
   "execution_count": null,
   "id": "07f7a902-bed2-4dd0-9db4-01b216c04288",
   "metadata": {},
   "outputs": [],
   "source": []
  },
  {
   "cell_type": "code",
   "execution_count": null,
   "id": "8ee9273b-4663-4819-b5c0-eeed923e444a",
   "metadata": {},
   "outputs": [],
   "source": []
  },
  {
   "cell_type": "code",
   "execution_count": null,
   "id": "9ca99ac5-dcaf-475f-b68e-698d68be4f1f",
   "metadata": {},
   "outputs": [],
   "source": []
  }
 ],
 "metadata": {
  "kernelspec": {
   "display_name": "Python 3 (ipykernel)",
   "language": "python",
   "name": "python3"
  },
  "language_info": {
   "codemirror_mode": {
    "name": "ipython",
    "version": 3
   },
   "file_extension": ".py",
   "mimetype": "text/x-python",
   "name": "python",
   "nbconvert_exporter": "python",
   "pygments_lexer": "ipython3",
   "version": "3.12.4"
  }
 },
 "nbformat": 4,
 "nbformat_minor": 5
}
